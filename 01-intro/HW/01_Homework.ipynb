{
 "cells": [
  {
   "cell_type": "code",
   "execution_count": 1,
   "id": "3d9edd50",
   "metadata": {},
   "outputs": [],
   "source": [
    "import pandas as pd"
   ]
  },
  {
   "cell_type": "code",
   "execution_count": 2,
   "id": "a351da26",
   "metadata": {},
   "outputs": [],
   "source": [
    "import seaborn as sns\n",
    "import matplotlib.pyplot as plt"
   ]
  },
  {
   "cell_type": "code",
   "execution_count": 3,
   "id": "ea04e1da",
   "metadata": {},
   "outputs": [],
   "source": [
    "import pickle"
   ]
  },
  {
   "cell_type": "code",
   "execution_count": 4,
   "id": "bd04a0d3",
   "metadata": {},
   "outputs": [],
   "source": [
    "from sklearn.feature_extraction import DictVectorizer\n",
    "from sklearn.linear_model import LinearRegression\n",
    "\n",
    "from sklearn.metrics import mean_squared_error"
   ]
  },
  {
   "cell_type": "markdown",
   "id": "6601ff22",
   "metadata": {},
   "source": [
    "## Q1. Downloading the data"
   ]
  },
  {
   "cell_type": "code",
   "execution_count": 5,
   "id": "7ede2fd0",
   "metadata": {},
   "outputs": [
    {
     "name": "stdout",
     "output_type": "stream",
     "text": [
      "1154112\n"
     ]
    }
   ],
   "source": [
    "df = pd.read_parquet('data/fhv_tripdata_2021-01.parquet')\n",
    "total_rows = df.shape[0]\n",
    "print(total_rows)"
   ]
  },
  {
   "cell_type": "markdown",
   "id": "8aa5e30f",
   "metadata": {},
   "source": [
    "## Q2. Computing duration"
   ]
  },
  {
   "cell_type": "code",
   "execution_count": 6,
   "id": "be4f0776",
   "metadata": {},
   "outputs": [],
   "source": [
    "df.dropOff_datetime = pd.to_datetime(df.dropOff_datetime)\n",
    "df.pickup_datetime = pd.to_datetime(df.pickup_datetime)\n",
    "\n",
    "df['duration'] = df.dropOff_datetime - df.pickup_datetime\n",
    "df.duration = df.duration.apply(lambda td: td.total_seconds() / 60)"
   ]
  },
  {
   "cell_type": "code",
   "execution_count": 7,
   "id": "e93fb7a8",
   "metadata": {},
   "outputs": [
    {
     "name": "stdout",
     "output_type": "stream",
     "text": [
      "19.167224093791006\n"
     ]
    }
   ],
   "source": [
    "total_duration_row_count, average_duration = df.describe()['duration'][['count', 'mean']]\n",
    "print(average_duration)"
   ]
  },
  {
   "cell_type": "markdown",
   "id": "06f4825e",
   "metadata": {},
   "source": [
    "## Data preparation"
   ]
  },
  {
   "cell_type": "code",
   "execution_count": 8,
   "id": "8a46cde0",
   "metadata": {},
   "outputs": [],
   "source": [
    "df = df[(df.duration >= 1) & (df.duration <= 60)]"
   ]
  },
  {
   "cell_type": "code",
   "execution_count": 9,
   "id": "f63cbb33",
   "metadata": {},
   "outputs": [
    {
     "name": "stdout",
     "output_type": "stream",
     "text": [
      "44286.0\n"
     ]
    }
   ],
   "source": [
    "updated_duration_row_count = df.describe()['duration']['count']\n",
    "\n",
    "print(total_duration_row_count - updated_duration_row_count)"
   ]
  },
  {
   "cell_type": "markdown",
   "id": "8a7b9916",
   "metadata": {},
   "source": [
    "## Q3. Missing values"
   ]
  },
  {
   "cell_type": "code",
   "execution_count": 10,
   "id": "b96bb864",
   "metadata": {},
   "outputs": [],
   "source": [
    "total_PUlocation_row_count = df.describe()['PUlocationID']['count']"
   ]
  },
  {
   "cell_type": "code",
   "execution_count": 11,
   "id": "d409b799",
   "metadata": {},
   "outputs": [],
   "source": [
    "df['PUlocationID'] = df.PUlocationID.fillna(-1)\n",
    "df['DOlocationID'] = df.DOlocationID.fillna(-1)"
   ]
  },
  {
   "cell_type": "code",
   "execution_count": 12,
   "id": "20b9c39f",
   "metadata": {},
   "outputs": [],
   "source": [
    "updated_PUlocation_row_count =  df.describe()['PUlocationID']['count']"
   ]
  },
  {
   "cell_type": "code",
   "execution_count": 13,
   "id": "205e8e9f",
   "metadata": {},
   "outputs": [
    {
     "name": "stdout",
     "output_type": "stream",
     "text": [
      "83.5273%\n"
     ]
    }
   ],
   "source": [
    "print(round(100 - (total_PUlocation_row_count / updated_PUlocation_row_count * 100), 4), \"%\", sep='')"
   ]
  },
  {
   "cell_type": "markdown",
   "id": "1875c109",
   "metadata": {},
   "source": [
    "## Q4. One-hot encoding"
   ]
  },
  {
   "cell_type": "code",
   "execution_count": 14,
   "id": "066b3769",
   "metadata": {},
   "outputs": [],
   "source": [
    "categorical = ['PUlocationID', 'DOlocationID']\n",
    "df[categorical] = df[categorical].astype(str)\n",
    "\n",
    "train_dicts = df[categorical].to_dict(orient='records')"
   ]
  },
  {
   "cell_type": "code",
   "execution_count": 15,
   "id": "6955c487",
   "metadata": {},
   "outputs": [],
   "source": [
    "dv = DictVectorizer()\n",
    "X_train = dv.fit_transform(train_dicts)"
   ]
  },
  {
   "cell_type": "code",
   "execution_count": 16,
   "id": "35eb82ff",
   "metadata": {},
   "outputs": [
    {
     "name": "stdout",
     "output_type": "stream",
     "text": [
      "525\n"
     ]
    }
   ],
   "source": [
    "print(X_train.shape[1])"
   ]
  },
  {
   "cell_type": "markdown",
   "id": "2dfe8c1a",
   "metadata": {},
   "source": [
    "## Q5. Training a model"
   ]
  },
  {
   "cell_type": "code",
   "execution_count": 17,
   "id": "00aeccbf",
   "metadata": {},
   "outputs": [],
   "source": [
    "target = 'duration'\n",
    "y_train = df[target].values"
   ]
  },
  {
   "cell_type": "code",
   "execution_count": 18,
   "id": "4aad87d6",
   "metadata": {},
   "outputs": [],
   "source": [
    "lr = LinearRegression()\n",
    "lr.fit(X_train, y_train)\n",
    "\n",
    "y_pred = lr.predict(X_train)"
   ]
  },
  {
   "cell_type": "code",
   "execution_count": 19,
   "id": "28d424f3",
   "metadata": {},
   "outputs": [
    {
     "data": {
      "text/plain": [
       "10.52851938900075"
      ]
     },
     "execution_count": 19,
     "metadata": {},
     "output_type": "execute_result"
    }
   ],
   "source": [
    "mean_squared_error(y_train, y_pred, squared=False)"
   ]
  },
  {
   "cell_type": "markdown",
   "id": "b038b0a7",
   "metadata": {},
   "source": [
    "## Q6. Evaluating the model"
   ]
  },
  {
   "cell_type": "code",
   "execution_count": 20,
   "id": "55cb3c4b",
   "metadata": {},
   "outputs": [],
   "source": [
    "df_val = pd.read_parquet('data/fhv_tripdata_2021-02.parquet')"
   ]
  },
  {
   "cell_type": "code",
   "execution_count": 21,
   "id": "7deb4fad",
   "metadata": {},
   "outputs": [],
   "source": [
    "df_val.dropOff_datetime = pd.to_datetime(df_val.dropOff_datetime)\n",
    "df_val.pickup_datetime = pd.to_datetime(df_val.pickup_datetime)"
   ]
  },
  {
   "cell_type": "code",
   "execution_count": 22,
   "id": "f0be7841",
   "metadata": {},
   "outputs": [],
   "source": [
    "df_val['duration'] = df_val.dropOff_datetime - df_val.pickup_datetime\n",
    "df_val.duration = df_val.duration.apply(lambda td: td.total_seconds() / 60)"
   ]
  },
  {
   "cell_type": "code",
   "execution_count": 23,
   "id": "66654bd9",
   "metadata": {},
   "outputs": [],
   "source": [
    "df_val = df_val[(df_val.duration >= 1) & (df_val.duration <= 60)]"
   ]
  },
  {
   "cell_type": "code",
   "execution_count": 24,
   "id": "f6586f08",
   "metadata": {},
   "outputs": [],
   "source": [
    "df_val['PUlocationID'] = df_val.PUlocationID.fillna(-1)\n",
    "df_val['DOlocationID'] = df_val.DOlocationID.fillna(-1)"
   ]
  },
  {
   "cell_type": "code",
   "execution_count": 25,
   "id": "8a67aa3d",
   "metadata": {},
   "outputs": [],
   "source": [
    "df_val[categorical] = df_val[categorical].astype(str)\n",
    "\n",
    "val_dicts = df_val[categorical].to_dict(orient='records')"
   ]
  },
  {
   "cell_type": "code",
   "execution_count": 26,
   "id": "f8fd158d",
   "metadata": {},
   "outputs": [],
   "source": [
    "X_val = dv.transform(val_dicts)\n",
    "y_val = df_val[target].values"
   ]
  },
  {
   "cell_type": "code",
   "execution_count": 27,
   "id": "be83748b",
   "metadata": {},
   "outputs": [],
   "source": [
    "y_pred = lr.predict(X_val)"
   ]
  },
  {
   "cell_type": "code",
   "execution_count": 28,
   "id": "756f259e",
   "metadata": {},
   "outputs": [
    {
     "data": {
      "text/plain": [
       "11.014286408853847"
      ]
     },
     "execution_count": 28,
     "metadata": {},
     "output_type": "execute_result"
    }
   ],
   "source": [
    "mean_squared_error(y_val, y_pred, squared=False)"
   ]
  },
  {
   "cell_type": "code",
   "execution_count": null,
   "id": "460d1257",
   "metadata": {},
   "outputs": [],
   "source": []
  }
 ],
 "metadata": {
  "kernelspec": {
   "display_name": "Python 3 (ipykernel)",
   "language": "python",
   "name": "python3"
  },
  "language_info": {
   "codemirror_mode": {
    "name": "ipython",
    "version": 3
   },
   "file_extension": ".py",
   "mimetype": "text/x-python",
   "name": "python",
   "nbconvert_exporter": "python",
   "pygments_lexer": "ipython3",
   "version": "3.9.2"
  }
 },
 "nbformat": 4,
 "nbformat_minor": 5
}
